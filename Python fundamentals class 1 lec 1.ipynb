{
 "cells": [
  {
   "cell_type": "markdown",
   "id": "d5e3bbb4",
   "metadata": {},
   "source": [
    "# Lecture 01: Introduction to Python\n",
    "# Date: 29.05.2021\n",
    "\n",
    "Instructor:\n",
    "<br>**Md Shahidullah Kawsar**\n",
    "<br>Data Scientist\n",
    "<br>IDARE, Houston, TX, USA\n",
    "\n",
    "#### Objectives:\n",
    "1. Familiarity with Anaconda, jupyter notebook, and Github\n",
    "2. Learn logical thinking by playing blockly games: Maze\n",
    "3. Learn about Python data types, Mathematical Operations, Comparison Operators, Logical Operators, and Membership Operators\n",
    "\n",
    "#### References: \n",
    "1. Version 3.7 (preferred) or higher: https://www.python.org/downloads/%7B%7B6%7D%7D\n",
    "2. Download Anaconda installer: https://www.anaconda.com/products/individual\n",
    "3. How to Install Anaconda (Python) on Windows 10:\n",
    "https://www.youtube.com/watch?v=syijLJ3oQzU\n",
    "4. Easily Install Anaconda Python on MacOS:\n",
    "https://www.youtube.com/watch?v=V6ZAv7hBH6Y&ab_channel=JustUnderstandingDataJustUnderstandingData\n",
    "5. https://blockly.games/\n",
    "6. Python - Basic Operators: https://www.tutorialspoint.com/python/python_basic_operators.htm\n",
    "7. Data Science workshop: https://github.com/sadat1971/Conducting-Workshop-DATA-SCIENCE/tree/master/lecture_tutorials\n"
   ]
  },
  {
   "cell_type": "markdown",
   "id": "eb8a5299",
   "metadata": {},
   "source": [
    "- Q1. The sum of two numbers will always be odd. **True** or **False**\n",
    "      The sum of two even numbers will always be even.\n",
    "      The sum of two odd numbers will always be even.\n",
    "      The sum of one even number and one odd number will always be odd.\n",
    "    "
   ]
  },
  {
   "cell_type": "code",
   "execution_count": 1,
   "id": "cd9d0e56",
   "metadata": {},
   "outputs": [
    {
     "data": {
      "text/plain": [
       "4"
      ]
     },
     "execution_count": 1,
     "metadata": {},
     "output_type": "execute_result"
    }
   ],
   "source": [
    "2+2"
   ]
  },
  {
   "cell_type": "code",
   "execution_count": 2,
   "id": "75dd948e",
   "metadata": {},
   "outputs": [
    {
     "data": {
      "text/plain": [
       "6"
      ]
     },
     "execution_count": 2,
     "metadata": {},
     "output_type": "execute_result"
    }
   ],
   "source": [
    "1+5"
   ]
  },
  {
   "cell_type": "code",
   "execution_count": 3,
   "id": "13aa3024",
   "metadata": {},
   "outputs": [
    {
     "data": {
      "text/plain": [
       "11"
      ]
     },
     "execution_count": 3,
     "metadata": {},
     "output_type": "execute_result"
    }
   ],
   "source": [
    "4+7"
   ]
  },
  {
   "cell_type": "markdown",
   "id": "cfa58ef4",
   "metadata": {},
   "source": [
    "- Q2. A positive value is always greater than a negative value. **True** or **False**\n",
    "<br> **True**"
   ]
  },
  {
   "cell_type": "code",
   "execution_count": 4,
   "id": "b12d90af",
   "metadata": {},
   "outputs": [
    {
     "data": {
      "text/plain": [
       "True"
      ]
     },
     "execution_count": 4,
     "metadata": {},
     "output_type": "execute_result"
    }
   ],
   "source": [
    "6>-3"
   ]
  },
  {
   "cell_type": "code",
   "execution_count": 5,
   "id": "83050937",
   "metadata": {},
   "outputs": [
    {
     "data": {
      "text/plain": [
       "True"
      ]
     },
     "execution_count": 5,
     "metadata": {},
     "output_type": "execute_result"
    }
   ],
   "source": [
    "1>-5"
   ]
  },
  {
   "cell_type": "markdown",
   "id": "fc42bad8",
   "metadata": {},
   "source": [
    "- Q3. Can you divide a number by zero? **Yes** or **No**\n",
    "<br> **No**"
   ]
  },
  {
   "cell_type": "code",
   "execution_count": 6,
   "id": "d10cd924",
   "metadata": {},
   "outputs": [
    {
     "ename": "ZeroDivisionError",
     "evalue": "division by zero",
     "output_type": "error",
     "traceback": [
      "\u001b[1;31m---------------------------------------------------------------------------\u001b[0m",
      "\u001b[1;31mZeroDivisionError\u001b[0m                         Traceback (most recent call last)",
      "\u001b[1;32m<ipython-input-6-9e1622b385b6>\u001b[0m in \u001b[0;36m<module>\u001b[1;34m\u001b[0m\n\u001b[1;32m----> 1\u001b[1;33m \u001b[1;36m1\u001b[0m\u001b[1;33m/\u001b[0m\u001b[1;36m0\u001b[0m\u001b[1;33m\u001b[0m\u001b[1;33m\u001b[0m\u001b[0m\n\u001b[0m",
      "\u001b[1;31mZeroDivisionError\u001b[0m: division by zero"
     ]
    }
   ],
   "source": [
    "1/0"
   ]
  },
  {
   "cell_type": "code",
   "execution_count": 7,
   "id": "03741e73",
   "metadata": {},
   "outputs": [
    {
     "ename": "ZeroDivisionError",
     "evalue": "division by zero",
     "output_type": "error",
     "traceback": [
      "\u001b[1;31m---------------------------------------------------------------------------\u001b[0m",
      "\u001b[1;31mZeroDivisionError\u001b[0m                         Traceback (most recent call last)",
      "\u001b[1;32m<ipython-input-7-9ab73e148374>\u001b[0m in \u001b[0;36m<module>\u001b[1;34m\u001b[0m\n\u001b[1;32m----> 1\u001b[1;33m \u001b[1;36m0\u001b[0m\u001b[1;33m/\u001b[0m\u001b[1;36m0\u001b[0m\u001b[1;33m\u001b[0m\u001b[1;33m\u001b[0m\u001b[0m\n\u001b[0m",
      "\u001b[1;31mZeroDivisionError\u001b[0m: division by zero"
     ]
    }
   ],
   "source": [
    "0/0"
   ]
  },
  {
   "cell_type": "markdown",
   "id": "ad64632f",
   "metadata": {},
   "source": [
    "- Q4. If x is less than 1 and y is greater than 1, then x/y is less than 1. **True*** or **False**\n",
    "<br> **True**"
   ]
  },
  {
   "cell_type": "code",
   "execution_count": 8,
   "id": "28c93e34",
   "metadata": {},
   "outputs": [
    {
     "data": {
      "text/plain": [
       "0.8181818181818181"
      ]
     },
     "execution_count": 8,
     "metadata": {},
     "output_type": "execute_result"
    }
   ],
   "source": [
    "x= 0.9\n",
    "y= 1.1\n",
    "x/y"
   ]
  },
  {
   "cell_type": "code",
   "execution_count": 9,
   "id": "f242feee",
   "metadata": {},
   "outputs": [
    {
     "data": {
      "text/plain": [
       "-1.5"
      ]
     },
     "execution_count": 9,
     "metadata": {},
     "output_type": "execute_result"
    }
   ],
   "source": [
    "x= -3\n",
    "y=2\n",
    "x/y"
   ]
  },
  {
   "cell_type": "markdown",
   "id": "9b3ee4b6",
   "metadata": {},
   "source": [
    "- Q5. The word 'Google' contains 5 unique characters. **True** or **False**\n",
    "<br> **True**"
   ]
  },
  {
   "cell_type": "code",
   "execution_count": 10,
   "id": "25cb5371",
   "metadata": {},
   "outputs": [
    {
     "data": {
      "text/plain": [
       "6"
      ]
     },
     "execution_count": 10,
     "metadata": {},
     "output_type": "execute_result"
    }
   ],
   "source": [
    "len('Google')"
   ]
  },
  {
   "cell_type": "code",
   "execution_count": 12,
   "id": "3680dead",
   "metadata": {},
   "outputs": [
    {
     "data": {
      "text/plain": [
       "False"
      ]
     },
     "execution_count": 12,
     "metadata": {},
     "output_type": "execute_result"
    }
   ],
   "source": [
    "\"G\"==\"g\""
   ]
  },
  {
   "cell_type": "code",
   "execution_count": 13,
   "id": "7bad4940",
   "metadata": {},
   "outputs": [
    {
     "data": {
      "text/plain": [
       "True"
      ]
     },
     "execution_count": 13,
     "metadata": {},
     "output_type": "execute_result"
    }
   ],
   "source": [
    "\"o\"==\"o\""
   ]
  },
  {
   "cell_type": "markdown",
   "id": "eb704c7c",
   "metadata": {},
   "source": [
    "- Q6. If x>1 and y>1, then x multiplied by y is greater than 1. **True** or **False**\n",
    "<br> **True**"
   ]
  },
  {
   "cell_type": "code",
   "execution_count": 17,
   "id": "b901c7f7",
   "metadata": {},
   "outputs": [
    {
     "data": {
      "text/plain": [
       "True"
      ]
     },
     "execution_count": 17,
     "metadata": {},
     "output_type": "execute_result"
    }
   ],
   "source": [
    "#integer\n",
    "x= 2\n",
    "y=3\n",
    "x*y>1"
   ]
  },
  {
   "cell_type": "code",
   "execution_count": 16,
   "id": "87996658",
   "metadata": {},
   "outputs": [
    {
     "data": {
      "text/plain": [
       "True"
      ]
     },
     "execution_count": 16,
     "metadata": {},
     "output_type": "execute_result"
    }
   ],
   "source": [
    "#float\n",
    "x= 1.5\n",
    "y=1.1\n",
    "x*y\n",
    "x*y>1"
   ]
  },
  {
   "cell_type": "markdown",
   "id": "68f5ab08",
   "metadata": {},
   "source": [
    "- Q7. The product of two odd numbers and one even number will always be an even number. **True** or **False**\n",
    "<br> **True**"
   ]
  },
  {
   "cell_type": "code",
   "execution_count": 22,
   "id": "9a9a09f6",
   "metadata": {},
   "outputs": [
    {
     "name": "stdout",
     "output_type": "stream",
     "text": [
      "30\n"
     ]
    },
    {
     "data": {
      "text/plain": [
       "True"
      ]
     },
     "execution_count": 22,
     "metadata": {},
     "output_type": "execute_result"
    }
   ],
   "source": [
    "print(3*5*2)\n",
    "(3*5*2)%2 == 0"
   ]
  },
  {
   "cell_type": "markdown",
   "id": "006a3eaa",
   "metadata": {},
   "source": [
    "- Q8. Set A = {1,3,5}, Set B={1,2,3}; Set A intersection Set B = {1,2,3,5}. **True** or **False**\n",
    "<br> **False**"
   ]
  },
  {
   "cell_type": "code",
   "execution_count": 24,
   "id": "0c24745c",
   "metadata": {},
   "outputs": [
    {
     "name": "stdout",
     "output_type": "stream",
     "text": [
      "{1, 3}\n",
      "<class 'set'>\n"
     ]
    }
   ],
   "source": [
    "A= {1,3,5}\n",
    "B= {1,2,3}\n",
    "print(A.intersection(B))\n",
    "print (type(A))"
   ]
  },
  {
   "cell_type": "markdown",
   "id": "d4d156d2",
   "metadata": {},
   "source": [
    "- Q9. A = {1,2,3,1,2,3,12,3}, the number of unique integers present in A are 4. **True** or **False**\n",
    "<br> **True**"
   ]
  },
  {
   "cell_type": "markdown",
   "id": "d8b4ec38",
   "metadata": {},
   "source": [
    "- Q10. 1 is not equal to 1.00. **True** or **False**\n",
    "<br> **False**"
   ]
  },
  {
   "cell_type": "code",
   "execution_count": 25,
   "id": "da4455d1",
   "metadata": {},
   "outputs": [
    {
     "data": {
      "text/plain": [
       "False"
      ]
     },
     "execution_count": 25,
     "metadata": {},
     "output_type": "execute_result"
    }
   ],
   "source": [
    "1 != 1.00"
   ]
  },
  {
   "cell_type": "code",
   "execution_count": 26,
   "id": "152deaf5",
   "metadata": {},
   "outputs": [
    {
     "data": {
      "text/plain": [
       "True"
      ]
     },
     "execution_count": 26,
     "metadata": {},
     "output_type": "execute_result"
    }
   ],
   "source": [
    "1 ==1.00"
   ]
  },
  {
   "cell_type": "code",
   "execution_count": null,
   "id": "9048d0ea",
   "metadata": {},
   "outputs": [],
   "source": [
    "### Python Data Types\n",
    "\n",
    "<br> **str** : string, text\n",
    "<br> **int** : integer, numbers\n",
    "<br> **float** : real numbers, decimal values\n",
    "<br> **bool** : True or False\n",
    "    "
   ]
  },
  {
   "cell_type": "code",
   "execution_count": 28,
   "id": "6123e529",
   "metadata": {},
   "outputs": [
    {
     "name": "stdout",
     "output_type": "stream",
     "text": [
      "name :  Tasnim Sultana\n",
      "birth_year :  1996\n",
      "height :  160.02\n",
      "no_1_student :  True\n"
     ]
    }
   ],
   "source": [
    "name = 'Tasnim Sultana'\n",
    "print(\"name : \", name)\n",
    "#print('type of name is', type(name))\n",
    "\n",
    "birth_year = 1996\n",
    "print(\"birth_year : \", birth_year)\n",
    "#print('type of birth_year is', type(birth_year))\n",
    "\n",
    "height = 160.02\n",
    "print(\"height : \", height)\n",
    "#print('type of height is', type(height))\n",
    "\n",
    "no_1_student = True\n",
    "print(\"no_1_student : \", no_1_student)\n",
    "#print('type of no_1_student is', type(no_1_student))"
   ]
  },
  {
   "cell_type": "markdown",
   "id": "b77fb87d",
   "metadata": {},
   "source": [
    "## Mathematical Operations"
   ]
  },
  {
   "cell_type": "code",
   "execution_count": 29,
   "id": "ad1ac2c3",
   "metadata": {},
   "outputs": [
    {
     "name": "stdout",
     "output_type": "stream",
     "text": [
      "a+b =  12\n",
      "a*b =  35\n",
      "a-b =  -2\n",
      "a%b =  5\n",
      "a/b =  0.7142857142857143\n",
      "a//b =  0\n",
      "a**b =  78125\n"
     ]
    }
   ],
   "source": [
    "a = 5 #integer\n",
    "b = 7 #integer \n",
    "\n",
    "# Addition\n",
    "print(\"a+b = \", a+b) \n",
    "\n",
    "# Multiplication\n",
    "print(\"a*b = \", a*b) \n",
    "\n",
    "# Subtraction\n",
    "print(\"a-b = \", a-b) \n",
    "\n",
    "# Modulus: Divides left hand operand by right hand operand and returns remainder\n",
    "print(\"a%b = \", a%b) \n",
    "\n",
    "# Division\n",
    "print(\"a/b = \", a/b)\n",
    "\n",
    "# Floor Division - The division of operands \n",
    "# where the result is the quotient in which \n",
    "# the digits after the decimal point are removed. \n",
    "# But if one of the operands is negative, the result is floored, \n",
    "# i.e., rounded away from zero (towards negative infinity)\n",
    "print(\"a//b = \", a//b) \n",
    "\n",
    "# Exponent: Performs exponential (power) calculation on operators\n",
    "print(\"a**b = \", a**b) "
   ]
  },
  {
   "cell_type": "markdown",
   "id": "408d887a",
   "metadata": {},
   "source": [
    "## Comparison Operators"
   ]
  },
  {
   "cell_type": "code",
   "execution_count": 31,
   "id": "e4b50617",
   "metadata": {},
   "outputs": [
    {
     "name": "stdout",
     "output_type": "stream",
     "text": [
      "a == b :  False\n",
      "a != b :  True\n",
      "a >= b :  False\n",
      "a <= b :  True\n",
      "a > b  :  False\n",
      "a < b  :  True\n"
     ]
    }
   ],
   "source": [
    "a = -3\n",
    "b = 3\n",
    "\n",
    "print(\"a == b : \", a == b)\n",
    "print(\"a != b : \", a != b)\n",
    "print(\"a >= b : \", a >= b)\n",
    "print(\"a <= b : \", a <= b)\n",
    "print(\"a > b  : \", a > b)\n",
    "print(\"a < b  : \", a < b)"
   ]
  },
  {
   "cell_type": "code",
   "execution_count": null,
   "id": "117a4c9a",
   "metadata": {},
   "outputs": [],
   "source": []
  }
 ],
 "metadata": {
  "kernelspec": {
   "display_name": "Python 3",
   "language": "python",
   "name": "python3"
  },
  "language_info": {
   "codemirror_mode": {
    "name": "ipython",
    "version": 3
   },
   "file_extension": ".py",
   "mimetype": "text/x-python",
   "name": "python",
   "nbconvert_exporter": "python",
   "pygments_lexer": "ipython3",
   "version": "3.8.8"
  }
 },
 "nbformat": 4,
 "nbformat_minor": 5
}

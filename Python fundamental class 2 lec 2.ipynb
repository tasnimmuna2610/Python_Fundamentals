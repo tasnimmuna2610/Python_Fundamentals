{
 "cells": [
  {
   "cell_type": "markdown",
   "id": "0f4ba1b7",
   "metadata": {},
   "source": [
    "# Lecture 02: String Manipulation and Python Lists\n",
    "# Date: 30.05.2021\n",
    "Instructor:\n",
    "<br>**Md Shahidullah Kawsar**\n",
    "<br>Data Scientist\n",
    "<br>IDARE, Houston, TX, USA\n",
    "\n",
    "#### Objectives:\n",
    "1. Logical and membership operators in Python\n",
    "2. Learn if-elseif-else condition by playing the Blockly games: Bird\n",
    "3. Learn strig manipulation\n",
    "4. Python List, slicing, changing, adding and removing list elements\n",
    "\n",
    "#### References: \n",
    "1. https://blockly.games/\n",
    "2. Python - Strings: https://www.tutorialspoint.com/python/python_strings.htm\n",
    "3. Data Science workshop: https://github.com/sadat1971/Conducting-Workshop-DATA-SCIENCE/tree/master/lecture_tutorials\n",
    "4. Python String: https://www.geeksforgeeks.org/python-strings/\n",
    "5. Python List: https://www.w3schools.com/python/python_lists.asp\n",
    "\n",
    "Best site to read articles on Data Science: (only 5 articles per month are free)\n",
    "\n",
    "6. medium.com (require paid subscription)\n",
    "7. towardsdatascience.com (require paid subscription)"
   ]
  },
  {
   "cell_type": "code",
   "execution_count": 1,
   "id": "e6a3abd2",
   "metadata": {},
   "outputs": [
    {
     "name": "stdout",
     "output_type": "stream",
     "text": [
      "Person name :  Tasnim Sultana\n",
      "<class 'str'>\n",
      "Birth Year :  1996\n",
      "<class 'int'>\n",
      "Height :  160.02\n",
      "<class 'float'>\n",
      "Is she kind?  True\n",
      "<class 'bool'>\n"
     ]
    }
   ],
   "source": [
    "name = \"Tasnim Sultana\"\n",
    "birth_year = 1996\n",
    "height = 160.02\n",
    "is_she_kind = True\n",
    "\n",
    "print(\"Person name : \", name)\n",
    "print(type(name))\n",
    "\n",
    "print(\"Birth Year : \", birth_year)\n",
    "print(type(birth_year))\n",
    "\n",
    "print(\"Height : \", height)\n",
    "print(type(height))\n",
    "\n",
    "print(\"Is she kind? \", is_she_kind)\n",
    "print(type(is_she_kind))"
   ]
  },
  {
   "cell_type": "markdown",
   "id": "5ae3ab54",
   "metadata": {},
   "source": [
    "## Logical operators"
   ]
  },
  {
   "cell_type": "code",
   "execution_count": 7,
   "id": "e96aacbb",
   "metadata": {},
   "outputs": [
    {
     "data": {
      "text/plain": [
       "7"
      ]
     },
     "execution_count": 7,
     "metadata": {},
     "output_type": "execute_result"
    }
   ],
   "source": [
    "#addition\n",
    "a= 2 \n",
    "b=5\n",
    "a+b"
   ]
  },
  {
   "cell_type": "code",
   "execution_count": 8,
   "id": "caedbe2b",
   "metadata": {},
   "outputs": [
    {
     "data": {
      "text/plain": [
       "-5"
      ]
     },
     "execution_count": 8,
     "metadata": {},
     "output_type": "execute_result"
    }
   ],
   "source": [
    "#subtraction\n",
    "a=3\n",
    "b=8\n",
    "a-b"
   ]
  },
  {
   "cell_type": "code",
   "execution_count": 9,
   "id": "279c1db0",
   "metadata": {},
   "outputs": [
    {
     "name": "stdout",
     "output_type": "stream",
     "text": [
      "a*b =  15\n"
     ]
    }
   ],
   "source": [
    "# Multiplication\n",
    "a= 5\n",
    "b= 3\n",
    "print(\"a*b = \", a*b)"
   ]
  },
  {
   "cell_type": "code",
   "execution_count": 10,
   "id": "32a38ad8",
   "metadata": {},
   "outputs": [
    {
     "name": "stdout",
     "output_type": "stream",
     "text": [
      "a/b =  3.0\n"
     ]
    }
   ],
   "source": [
    "# Division\n",
    "a= 9\n",
    "b=3\n",
    "print(\"a/b = \", a/b)"
   ]
  },
  {
   "cell_type": "code",
   "execution_count": 11,
   "id": "f2f44d32",
   "metadata": {},
   "outputs": [
    {
     "name": "stdout",
     "output_type": "stream",
     "text": [
      "a%b =  1\n"
     ]
    }
   ],
   "source": [
    "\n",
    "# Modulus: Divides left hand operand by right hand operand and returns remainder\n",
    "a= 9\n",
    "b=8\n",
    "print(\"a%b = \", a%b) "
   ]
  },
  {
   "cell_type": "code",
   "execution_count": 12,
   "id": "fec86193",
   "metadata": {},
   "outputs": [
    {
     "name": "stdout",
     "output_type": "stream",
     "text": [
      "a//b =  1\n"
     ]
    }
   ],
   "source": [
    "# Floor Division - The division of operands \n",
    "# where the result is the quotient in which \n",
    "# the digits after the decimal point are removed. \n",
    "# But if one of the operands is negative, the result is floored, \n",
    "# i.e., rounded away from zero (towards negative infinity)\n",
    "a= 6\n",
    "b=4\n",
    "print(\"a//b = \", a//b) "
   ]
  },
  {
   "cell_type": "code",
   "execution_count": 13,
   "id": "0e51fd6d",
   "metadata": {},
   "outputs": [
    {
     "name": "stdout",
     "output_type": "stream",
     "text": [
      "a**b =  8\n"
     ]
    }
   ],
   "source": [
    "# Exponent: Performs exponential (power) calculation on operators\n",
    "a=2\n",
    "b=3\n",
    "print(\"a**b = \", a**b)"
   ]
  },
  {
   "cell_type": "markdown",
   "id": "899e01b7",
   "metadata": {},
   "source": [
    "## Comparison operators"
   ]
  },
  {
   "cell_type": "code",
   "execution_count": 14,
   "id": "0d5d9edc",
   "metadata": {},
   "outputs": [
    {
     "name": "stdout",
     "output_type": "stream",
     "text": [
      "a == b and c == d :  True\n",
      "a == b or c == d :  True\n",
      "not c == d :  False\n"
     ]
    }
   ],
   "source": [
    "a = 2\n",
    "b = 2\n",
    "c = 9\n",
    "d = 9\n",
    "# if both conditions are True, 'and' returns True\n",
    "# if one of the condition is True, 'or' returnss True\n",
    "print(\"a == b and c == d : \", a == b and c == d)\n",
    "print(\"a == b or c == d : \", a == b or c == d)\n",
    "print(\"not c == d : \", not c == d)"
   ]
  },
  {
   "cell_type": "code",
   "execution_count": 3,
   "id": "8d0845ef",
   "metadata": {},
   "outputs": [
    {
     "data": {
      "text/plain": [
       "False"
      ]
     },
     "execution_count": 3,
     "metadata": {},
     "output_type": "execute_result"
    }
   ],
   "source": [
    "Muna = 1\n",
    "Mina = 3\n",
    "Muna == Mina"
   ]
  },
  {
   "cell_type": "code",
   "execution_count": 4,
   "id": "3b6e5a42",
   "metadata": {},
   "outputs": [
    {
     "data": {
      "text/plain": [
       "True"
      ]
     },
     "execution_count": 4,
     "metadata": {},
     "output_type": "execute_result"
    }
   ],
   "source": [
    "Muna = 1\n",
    "Mina = 3\n",
    "Muna < Mina"
   ]
  },
  {
   "cell_type": "code",
   "execution_count": 5,
   "id": "0aba8684",
   "metadata": {},
   "outputs": [
    {
     "data": {
      "text/plain": [
       "False"
      ]
     },
     "execution_count": 5,
     "metadata": {},
     "output_type": "execute_result"
    }
   ],
   "source": [
    "Muna = 1\n",
    "Mina = 3\n",
    "Muna > Mina"
   ]
  },
  {
   "cell_type": "markdown",
   "id": "76ffd384",
   "metadata": {},
   "source": [
    "## Membership operators"
   ]
  },
  {
   "cell_type": "code",
   "execution_count": 18,
   "id": "055b3816",
   "metadata": {},
   "outputs": [
    {
     "name": "stdout",
     "output_type": "stream",
     "text": [
      "a in b     :  True\n",
      "a not in b :  False\n",
      "b in a     :  False\n"
     ]
    }
   ],
   "source": [
    "a = \"Muna\"\n",
    "b = \"MyMuna\"\n",
    "\n",
    "print(\"a in b     : \", a in b)\n",
    "print(\"a not in b : \", a not in b)\n",
    "print(\"b in a     : \", b in a)"
   ]
  },
  {
   "cell_type": "code",
   "execution_count": 20,
   "id": "8ad88bb1",
   "metadata": {},
   "outputs": [
    {
     "name": "stdout",
     "output_type": "stream",
     "text": [
      "a is in b and c- is True\n"
     ]
    }
   ],
   "source": [
    "a = \"Muna\"\n",
    "b = \"MyMuna\"\n",
    "c= \"JaMuna\"\n",
    "print(\"a is in b and c- is\", a in b and a in c)"
   ]
  },
  {
   "cell_type": "code",
   "execution_count": 21,
   "id": "c1d9527b",
   "metadata": {},
   "outputs": [
    {
     "name": "stdout",
     "output_type": "stream",
     "text": [
      "a is in b or c- is True\n"
     ]
    }
   ],
   "source": [
    "a = \"Muna\"\n",
    "b = \"MyMuna\"\n",
    "c= \"JaMuna\"\n",
    "print(\"a is in b or c- is\", a in b or a in c)"
   ]
  },
  {
   "cell_type": "code",
   "execution_count": 23,
   "id": "056a2ad4",
   "metadata": {},
   "outputs": [
    {
     "name": "stdout",
     "output_type": "stream",
     "text": [
      "a is in b or c- is True\n"
     ]
    }
   ],
   "source": [
    "a = \"Muna\"\n",
    "b = \"MyMuna\"\n",
    "c= \"JaRina\"\n",
    "print(\"a is in b or c- is\", a in b or a in c)"
   ]
  },
  {
   "cell_type": "code",
   "execution_count": 24,
   "id": "e2a708cd",
   "metadata": {},
   "outputs": [
    {
     "name": "stdout",
     "output_type": "stream",
     "text": [
      "a is in b or c- is False\n"
     ]
    }
   ],
   "source": [
    "a = \"Muna\"\n",
    "b = \"MyRuna\"\n",
    "c= \"Jarina\"\n",
    "print(\"a is in b or c- is\", a in b or a in c)"
   ]
  },
  {
   "cell_type": "code",
   "execution_count": 25,
   "id": "a8ab7ac3",
   "metadata": {},
   "outputs": [
    {
     "name": "stdout",
     "output_type": "stream",
     "text": [
      "a is in b and c- is True\n"
     ]
    }
   ],
   "source": [
    "a = \"Muna\"\n",
    "b = \"MyMuna\"\n",
    "c= \"JaMuna\"\n",
    "print(\"a is in b and c- is\", a in b and a in c)"
   ]
  },
  {
   "cell_type": "markdown",
   "id": "5b56c0f5",
   "metadata": {},
   "source": [
    "## Learn string manipulation"
   ]
  },
  {
   "cell_type": "code",
   "execution_count": 40,
   "id": "4c1fb8e5",
   "metadata": {},
   "outputs": [
    {
     "name": "stdout",
     "output_type": "stream",
     "text": [
      "<class 'str'>\n"
     ]
    }
   ],
   "source": [
    "string = \"muna\"\n",
    "print(type(string))"
   ]
  },
  {
   "cell_type": "code",
   "execution_count": 45,
   "id": "f5f66c39",
   "metadata": {},
   "outputs": [
    {
     "name": "stdout",
     "output_type": "stream",
     "text": [
      "<class 'str'>\n"
     ]
    }
   ],
   "source": [
    "string = \"muna\"\n",
    "print(type(string))"
   ]
  },
  {
   "cell_type": "markdown",
   "id": "5be4af7c",
   "metadata": {},
   "source": [
    "- How to capitalize the first character of a string?"
   ]
  },
  {
   "cell_type": "code",
   "execution_count": 47,
   "id": "d7a65c91",
   "metadata": {},
   "outputs": [
    {
     "name": "stdout",
     "output_type": "stream",
     "text": [
      "Muna\n"
     ]
    }
   ],
   "source": [
    "string.capitalize()\n",
    "print(string.capitalize())"
   ]
  },
  {
   "cell_type": "code",
   "execution_count": 49,
   "id": "395c117c",
   "metadata": {},
   "outputs": [
    {
     "name": "stdout",
     "output_type": "stream",
     "text": [
      "1\n"
     ]
    }
   ],
   "source": [
    "str_count = string.count(\"un\")\n",
    "print(str_count)"
   ]
  },
  {
   "cell_type": "code",
   "execution_count": 50,
   "id": "e1cda4f7",
   "metadata": {},
   "outputs": [
    {
     "name": "stdout",
     "output_type": "stream",
     "text": [
      "2\n"
     ]
    }
   ],
   "source": [
    "name=\"miami\"\n",
    "new_str_count = name.count(\"m\")\n",
    "print(new_str_count)"
   ]
  },
  {
   "cell_type": "markdown",
   "id": "6a7cd8c8",
   "metadata": {},
   "source": [
    "- How to find if a string starts or ends with a specific substring?"
   ]
  },
  {
   "cell_type": "code",
   "execution_count": 55,
   "id": "0ee3b8d3",
   "metadata": {},
   "outputs": [
    {
     "name": "stdout",
     "output_type": "stream",
     "text": [
      "True\n"
     ]
    }
   ],
   "source": [
    "name=\"miami\"\n",
    "str_startswith = name.startswith(\"m\")\n",
    "print(str_startswith)"
   ]
  },
  {
   "cell_type": "code",
   "execution_count": 56,
   "id": "e658169b",
   "metadata": {},
   "outputs": [
    {
     "name": "stdout",
     "output_type": "stream",
     "text": [
      "False\n"
     ]
    }
   ],
   "source": [
    "name=\"miami\"\n",
    "str_endswith = name.endswith(\"v\")\n",
    "\n",
    "print(str_endswith)"
   ]
  },
  {
   "cell_type": "code",
   "execution_count": 57,
   "id": "1740d980",
   "metadata": {},
   "outputs": [
    {
     "name": "stdout",
     "output_type": "stream",
     "text": [
      "True\n"
     ]
    }
   ],
   "source": [
    "name=\"miami\"\n",
    "stri_endswith = name.endswith(\"i\")\n",
    "print(stri_endswith)"
   ]
  },
  {
   "cell_type": "markdown",
   "id": "60f11bdf",
   "metadata": {},
   "source": [
    "- How to find the index of a specific character in a string?"
   ]
  },
  {
   "cell_type": "code",
   "execution_count": 58,
   "id": "025400dc",
   "metadata": {},
   "outputs": [
    {
     "name": "stdout",
     "output_type": "stream",
     "text": [
      "2\n"
     ]
    }
   ],
   "source": [
    "name=\"miami\"\n",
    "str_find = name.find(\"a\")\n",
    "print(str_find)"
   ]
  },
  {
   "cell_type": "code",
   "execution_count": 60,
   "id": "0621668f",
   "metadata": {},
   "outputs": [
    {
     "name": "stdout",
     "output_type": "stream",
     "text": [
      "1\n"
     ]
    }
   ],
   "source": [
    "name=\"miami\"\n",
    "str_index = name.index(\"i\")\n",
    "print(str_index)"
   ]
  },
  {
   "cell_type": "markdown",
   "id": "5af50395",
   "metadata": {},
   "source": [
    "- How to convert a string into lower case and upper case characters?"
   ]
  },
  {
   "cell_type": "code",
   "execution_count": 61,
   "id": "254637ce",
   "metadata": {},
   "outputs": [
    {
     "name": "stdout",
     "output_type": "stream",
     "text": [
      "miami\n"
     ]
    }
   ],
   "source": [
    "str_lower = name.lower()\n",
    "print(str_lower)"
   ]
  },
  {
   "cell_type": "code",
   "execution_count": 62,
   "id": "119c7927",
   "metadata": {},
   "outputs": [
    {
     "name": "stdout",
     "output_type": "stream",
     "text": [
      "MIAMI\n"
     ]
    }
   ],
   "source": [
    "str_upper = name.upper()\n",
    "print(str_upper)"
   ]
  },
  {
   "cell_type": "markdown",
   "id": "a0fbc53e",
   "metadata": {},
   "source": [
    "- How to remove spaces from a string?"
   ]
  },
  {
   "cell_type": "code",
   "execution_count": 64,
   "id": "ec9e97c0",
   "metadata": {},
   "outputs": [
    {
     "name": "stdout",
     "output_type": "stream",
     "text": [
      "Moyna\n"
     ]
    }
   ],
   "source": [
    "new_name = \" Moyna\"\n",
    "str_lstrip = new_name.lstrip()\n",
    "print(str_lstrip)"
   ]
  },
  {
   "cell_type": "code",
   "execution_count": 65,
   "id": "eb3a2e16",
   "metadata": {},
   "outputs": [
    {
     "name": "stdout",
     "output_type": "stream",
     "text": [
      "Moyna\n"
     ]
    }
   ],
   "source": [
    "new_name = \"Moyna   \"\n",
    "str_rstrip = new_name.rstrip()\n",
    "print(str_rstrip)"
   ]
  },
  {
   "cell_type": "markdown",
   "id": "11b99048",
   "metadata": {},
   "source": [
    "- How to replace a substring inside a string?"
   ]
  },
  {
   "cell_type": "code",
   "execution_count": 66,
   "id": "0d5ed8c7",
   "metadata": {},
   "outputs": [
    {
     "name": "stdout",
     "output_type": "stream",
     "text": [
      "Moynb   \n"
     ]
    }
   ],
   "source": [
    "str_replace = new_name.replace(\"a\", \"b\")\n",
    "print(str_replace)"
   ]
  },
  {
   "cell_type": "code",
   "execution_count": null,
   "id": "81616905",
   "metadata": {},
   "outputs": [],
   "source": [
    "string = \"Moyna2222\"\n"
   ]
  },
  {
   "cell_type": "markdown",
   "id": "618b90b9",
   "metadata": {},
   "source": [
    "- How to find the presence of an alphanumeric character, alphabet or digit?"
   ]
  },
  {
   "cell_type": "code",
   "execution_count": 67,
   "id": "d11b0c7b",
   "metadata": {},
   "outputs": [
    {
     "name": "stdout",
     "output_type": "stream",
     "text": [
      "True\n"
     ]
    }
   ],
   "source": [
    "str_isalnum = string.isalnum()\n",
    "print(str_isalnum)"
   ]
  },
  {
   "cell_type": "code",
   "execution_count": 68,
   "id": "31654c0c",
   "metadata": {},
   "outputs": [
    {
     "name": "stdout",
     "output_type": "stream",
     "text": [
      "True\n"
     ]
    }
   ],
   "source": [
    "str_isalpha = string.isalpha()\n",
    "print(str_isalpha)"
   ]
  },
  {
   "cell_type": "code",
   "execution_count": 69,
   "id": "a6d4abb4",
   "metadata": {},
   "outputs": [
    {
     "name": "stdout",
     "output_type": "stream",
     "text": [
      "False\n"
     ]
    }
   ],
   "source": [
    "str_isdigit = string.isdigit()\n",
    "print(str_isdigit)"
   ]
  },
  {
   "cell_type": "code",
   "execution_count": 70,
   "id": "3414c1f0",
   "metadata": {},
   "outputs": [
    {
     "name": "stdout",
     "output_type": "stream",
     "text": [
      "True\n"
     ]
    }
   ],
   "source": [
    "str_islower = string.islower()\n",
    "print(str_islower)"
   ]
  },
  {
   "cell_type": "code",
   "execution_count": 71,
   "id": "f9532632",
   "metadata": {},
   "outputs": [
    {
     "name": "stdout",
     "output_type": "stream",
     "text": [
      "False\n"
     ]
    }
   ],
   "source": [
    "str_isspace = string.isspace()\n",
    "print(str_isspace)"
   ]
  },
  {
   "cell_type": "code",
   "execution_count": 72,
   "id": "c8ccd72d",
   "metadata": {},
   "outputs": [
    {
     "name": "stdout",
     "output_type": "stream",
     "text": [
      "False\n"
     ]
    }
   ],
   "source": [
    "str_isupper = string.isupper()\n",
    "print(str_isupper)"
   ]
  },
  {
   "cell_type": "markdown",
   "id": "1292a515",
   "metadata": {},
   "source": [
    "## String slicing"
   ]
  },
  {
   "cell_type": "code",
   "execution_count": 74,
   "id": "6601a4f6",
   "metadata": {},
   "outputs": [
    {
     "name": "stdout",
     "output_type": "stream",
     "text": [
      "M\n",
      "a\n",
      "My Name\n",
      " is Muna\n",
      "My Name \n",
      "is Mun\n"
     ]
    }
   ],
   "source": [
    "string = \"My Name is Muna\"\n",
    "\n",
    "print(string[0])\n",
    "print(string[-1])\n",
    "print(string[:7])\n",
    "print(string[7:])\n",
    "print(string[0:8])\n",
    "print(string[8:-1])"
   ]
  },
  {
   "cell_type": "code",
   "execution_count": 76,
   "id": "3d94e286",
   "metadata": {},
   "outputs": [
    {
     "name": "stdout",
     "output_type": "stream",
     "text": [
      "['abbu', 2.24, 'ammu', 2.84, 'vaia', 2.22, 'apu', 2.9]\n",
      "abbu\n",
      "2.24\n",
      "['ammu', 2.84]\n",
      "['vaia', 2.22]\n",
      "['abbu', 2.24, 'ammu', 2.84]\n",
      "['vaia', 2.22, 'apu', 2.9]\n",
      "apu\n",
      "2.9\n"
     ]
    }
   ],
   "source": [
    "family = [\"abbu\", 2.24, \"ammu\", 2.84, \"vaia\", 2.22, \"apu\", 2.9]\n",
    "\n",
    "print(family)\n",
    "print(family[0])\n",
    "print(family[1])\n",
    "print(family[2:4])\n",
    "print(family[4:6])\n",
    "print(family[:4])\n",
    "print(family[4:])\n",
    "print(family[-2])\n",
    "print(family[-1])\n"
   ]
  },
  {
   "cell_type": "markdown",
   "id": "5ffc46df",
   "metadata": {},
   "source": [
    "## List Manipulation:\n",
    "1. Change list elements\n",
    "2. Add list elements\n",
    "3. Remove list elements"
   ]
  },
  {
   "cell_type": "code",
   "execution_count": 79,
   "id": "09ad0c94",
   "metadata": {},
   "outputs": [
    {
     "name": "stdout",
     "output_type": "stream",
     "text": [
      "['baba', 2.21, 'ammu', 2.84, 'vaia', 2.22, 'apu', 1.45]\n",
      "['baba', 2.21, 'ammu', 2.84, 'vaia', 2.22, 'apu', 1.45]\n"
     ]
    }
   ],
   "source": [
    "# changing list elements\n",
    "family[7] = 1.45\n",
    "print(family)\n",
    "\n",
    "family[0:2] = [\"baba\", 2.21]\n",
    "print(family)"
   ]
  },
  {
   "cell_type": "code",
   "execution_count": 80,
   "id": "3f7e8a1e",
   "metadata": {},
   "outputs": [
    {
     "name": "stdout",
     "output_type": "stream",
     "text": [
      "['baba', 2.21, 'ammu', 2.84, 'vaia', 2.22, 'apu', 1.45, 'me', 5.2]\n",
      "['baba', 2.21, 'ammu', 2.84, 'vaia', 2.22, 'apu', 1.45, 'me']\n"
     ]
    }
   ],
   "source": [
    "# adding list elements\n",
    "family = family + [\"me\", 5.2]\n",
    "print(family)\n",
    "\n",
    "# removing list elements\n",
    "del(family[-1])\n",
    "print(family)"
   ]
  },
  {
   "cell_type": "code",
   "execution_count": null,
   "id": "a7802ea9",
   "metadata": {},
   "outputs": [],
   "source": []
  }
 ],
 "metadata": {
  "kernelspec": {
   "display_name": "Python 3",
   "language": "python",
   "name": "python3"
  },
  "language_info": {
   "codemirror_mode": {
    "name": "ipython",
    "version": 3
   },
   "file_extension": ".py",
   "mimetype": "text/x-python",
   "name": "python",
   "nbconvert_exporter": "python",
   "pygments_lexer": "ipython3",
   "version": "3.8.8"
  }
 },
 "nbformat": 4,
 "nbformat_minor": 5
}
